{
 "cells": [
  {
   "cell_type": "markdown",
   "metadata": {},
   "source": [
    "# Line by Line Execution Time"
   ]
  },
  {
   "cell_type": "code",
   "execution_count": 1,
   "metadata": {},
   "outputs": [],
   "source": [
    "import numpy as np\n",
    "np.random.seed(42)\n",
    "from scipy.special import expit\n",
    "\n",
    "import sys\n",
    "sys.path.append('..')\n",
    "from majorityvoteproba import majority_vote_proba"
   ]
  },
  {
   "cell_type": "markdown",
   "metadata": {},
   "source": [
    "# Fake Data"
   ]
  },
  {
   "cell_type": "code",
   "execution_count": 2,
   "metadata": {},
   "outputs": [],
   "source": [
    "x = expit(np.random.normal(size=(1000000, 5)))"
   ]
  },
  {
   "cell_type": "markdown",
   "metadata": {},
   "source": [
    "# Execution Time by Function Calls"
   ]
  },
  {
   "cell_type": "code",
   "execution_count": 3,
   "metadata": {},
   "outputs": [
    {
     "name": "stdout",
     "output_type": "stream",
     "text": [
      " "
     ]
    },
    {
     "data": {
      "text/plain": [
       "         37 function calls in 0.650 seconds\n",
       "\n",
       "   Ordered by: internal time\n",
       "   List reduced from 20 to 1 due to restriction <'majority_vote_proba_fn.py'>\n",
       "\n",
       "   ncalls  tottime  percall  cumtime  percall filename:lineno(function)\n",
       "        1    0.374    0.374    0.649    0.649 majority_vote_proba_fn.py:4(majority_vote_proba)"
      ]
     },
     "metadata": {},
     "output_type": "display_data"
    }
   ],
   "source": [
    "%prun -l majority_vote_proba_fn.py y, vote, cnt = majority_vote_proba(x)"
   ]
  },
  {
   "cell_type": "markdown",
   "metadata": {},
   "source": [
    "# Line by Line Profiling"
   ]
  },
  {
   "cell_type": "code",
   "execution_count": 4,
   "metadata": {},
   "outputs": [],
   "source": [
    "%load_ext line_profiler"
   ]
  },
  {
   "cell_type": "code",
   "execution_count": 5,
   "metadata": {},
   "outputs": [
    {
     "data": {
      "text/plain": [
       "Timer unit: 1e-06 s\n",
       "\n",
       "Total time: 0.638256 s\n",
       "File: ../majorityvoteproba/majority_vote_proba_fn.py\n",
       "Function: majority_vote_proba at line 4\n",
       "\n",
       "Line #      Hits         Time  Per Hit   % Time  Line Contents\n",
       "==============================================================\n",
       "     4                                           def majority_vote_proba(x):\n",
       "     5                                               # count how many proba x are greater than 0.5\n",
       "     6         1      52463.0  52463.0      8.2      cnt = np.sum(x >= 0.5, axis=1).astype(np.uint16)\n",
       "     7                                               \n",
       "     8                                               # the vote per example\n",
       "     9         1        774.0    774.0      0.1      vote = cnt > int(x.shape[1] / 2)\n",
       "    10                                               \n",
       "    11                                               # initialize proba y\n",
       "    12         1      15104.0  15104.0      2.4      y = np.ones(shape=vote.shape, dtype=np.float16) * .5\n",
       "    13                                               \n",
       "    14                                               # set x<0.5 to zero and add sum(x-0.5)/n\n",
       "    15         1      53504.0  53504.0      8.4      xp = (x - .5).astype(np.float16)\n",
       "    16         1     110973.0 110973.0     17.4      xp[xp < 0] = 0  # set negative to zero\n",
       "    17         1      22218.0  22218.0      3.5      xp[~vote, :] = 0  # set all vote=false examples to 0\n",
       "    18         1     101551.0 101551.0     15.9      y += xp.mean(axis=1)  # add to 0.5\n",
       "    19         1        987.0    987.0      0.2      del xp\n",
       "    20                                               \n",
       "    21                                               # set x>=0.5 to zero and add sum(x-0.5)/n\n",
       "    22         1      52632.0  52632.0      8.2      xn = (x - .5).astype(np.float16)\n",
       "    23         1     105277.0 105277.0     16.5      xn[xn >= 0] = 0  # set positive to zero\n",
       "    24         1      21921.0  21921.0      3.4      xn[vote, :] = 0  # set all vote=true examples to 0\n",
       "    25         1      99612.0  99612.0     15.6      y += xn.mean(axis=1)  # add to 0.5\n",
       "    26         1       1067.0   1067.0      0.2      del xn\n",
       "    27                                               \n",
       "    28                                               # done\n",
       "    29         1        173.0    173.0      0.0      return y, vote.astype(np.uint8), cnt"
      ]
     },
     "metadata": {},
     "output_type": "display_data"
    }
   ],
   "source": [
    "%lprun -f majority_vote_proba majority_vote_proba(x)"
   ]
  },
  {
   "cell_type": "markdown",
   "metadata": {},
   "source": [
    "# Memory Profile"
   ]
  },
  {
   "cell_type": "code",
   "execution_count": 6,
   "metadata": {},
   "outputs": [],
   "source": [
    "%load_ext memory_profiler"
   ]
  },
  {
   "cell_type": "code",
   "execution_count": 7,
   "metadata": {},
   "outputs": [
    {
     "name": "stdout",
     "output_type": "stream",
     "text": [
      "\n"
     ]
    },
    {
     "data": {
      "text/plain": [
       "Filename: ../majorityvoteproba/majority_vote_proba_fn.py\n",
       "\n",
       "Line #    Mem usage    Increment   Line Contents\n",
       "================================================\n",
       "     4    166.6 MiB    166.6 MiB   def majority_vote_proba(x):\n",
       "     5                                 # count how many proba x are greater than 0.5\n",
       "     6    166.6 MiB      0.0 MiB       cnt = np.sum(x >= 0.5, axis=1).astype(np.uint16)\n",
       "     7                                 \n",
       "     8                                 # the vote per example\n",
       "     9    166.6 MiB      0.0 MiB       vote = cnt > int(x.shape[1] / 2)\n",
       "    10                                 \n",
       "    11                                 # initialize proba y\n",
       "    12    166.6 MiB      0.0 MiB       y = np.ones(shape=vote.shape, dtype=np.float16) * .5\n",
       "    13                                 \n",
       "    14                                 # set x<0.5 to zero and add sum(x-0.5)/n\n",
       "    15    166.6 MiB      0.0 MiB       xp = (x - .5).astype(np.float16)\n",
       "    16    166.6 MiB      0.0 MiB       xp[xp < 0] = 0  # set negative to zero\n",
       "    17    166.6 MiB      0.0 MiB       xp[~vote, :] = 0  # set all vote=false examples to 0\n",
       "    18    166.7 MiB      0.0 MiB       y += xp.mean(axis=1)  # add to 0.5\n",
       "    19    166.7 MiB      0.0 MiB       del xp\n",
       "    20                                 \n",
       "    21                                 # set x>=0.5 to zero and add sum(x-0.5)/n\n",
       "    22    166.7 MiB      0.0 MiB       xn = (x - .5).astype(np.float16)\n",
       "    23    166.7 MiB      0.0 MiB       xn[xn >= 0] = 0  # set positive to zero\n",
       "    24    166.7 MiB      0.0 MiB       xn[vote, :] = 0  # set all vote=true examples to 0\n",
       "    25    166.7 MiB      0.0 MiB       y += xn.mean(axis=1)  # add to 0.5\n",
       "    26    166.7 MiB      0.0 MiB       del xn\n",
       "    27                                 \n",
       "    28                                 # done\n",
       "    29    166.7 MiB      0.0 MiB       return y, vote.astype(np.uint8), cnt"
      ]
     },
     "metadata": {},
     "output_type": "display_data"
    }
   ],
   "source": [
    "%mprun -f majority_vote_proba majority_vote_proba(x)"
   ]
  },
  {
   "cell_type": "code",
   "execution_count": null,
   "metadata": {},
   "outputs": [],
   "source": []
  }
 ],
 "metadata": {
  "kernelspec": {
   "display_name": "Python 3",
   "language": "python",
   "name": "python3"
  },
  "language_info": {
   "codemirror_mode": {
    "name": "ipython",
    "version": 3
   },
   "file_extension": ".py",
   "mimetype": "text/x-python",
   "name": "python",
   "nbconvert_exporter": "python",
   "pygments_lexer": "ipython3",
   "version": "3.6.2"
  }
 },
 "nbformat": 4,
 "nbformat_minor": 2
}
