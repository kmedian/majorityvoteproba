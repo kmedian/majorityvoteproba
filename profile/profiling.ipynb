{
 "cells": [
  {
   "cell_type": "markdown",
   "metadata": {},
   "source": [
    "# Line by Line Execution Time"
   ]
  },
  {
   "cell_type": "code",
   "execution_count": 1,
   "metadata": {},
   "outputs": [],
   "source": [
    "import numpy as np\n",
    "np.random.seed(42)\n",
    "from scipy.special import expit\n",
    "\n",
    "import sys\n",
    "sys.path.append('..')\n",
    "from majorityvoteproba import majority_vote_proba"
   ]
  },
  {
   "cell_type": "markdown",
   "metadata": {},
   "source": [
    "# Fake Data"
   ]
  },
  {
   "cell_type": "code",
   "execution_count": 2,
   "metadata": {},
   "outputs": [],
   "source": [
    "x = expit(np.random.normal(size=(1000000, 5)))"
   ]
  },
  {
   "cell_type": "markdown",
   "metadata": {},
   "source": [
    "# Execution Time by Function Calls"
   ]
  },
  {
   "cell_type": "code",
   "execution_count": 3,
   "metadata": {},
   "outputs": [
    {
     "name": "stdout",
     "output_type": "stream",
     "text": [
      " "
     ]
    },
    {
     "data": {
      "text/plain": [
       "         36 function calls in 0.334 seconds\n",
       "\n",
       "   Ordered by: internal time\n",
       "   List reduced from 20 to 1 due to restriction <'majority_vote_proba_fn.py'>\n",
       "\n",
       "   ncalls  tottime  percall  cumtime  percall filename:lineno(function)\n",
       "        1    0.191    0.191    0.333    0.333 majority_vote_proba_fn.py:4(majority_vote_proba)"
      ]
     },
     "metadata": {},
     "output_type": "display_data"
    }
   ],
   "source": [
    "%prun -l majority_vote_proba_fn.py y, vote, cnt = majority_vote_proba(x)"
   ]
  },
  {
   "cell_type": "markdown",
   "metadata": {},
   "source": [
    "# Line by Line Profiling"
   ]
  },
  {
   "cell_type": "code",
   "execution_count": 4,
   "metadata": {},
   "outputs": [],
   "source": [
    "%load_ext line_profiler"
   ]
  },
  {
   "cell_type": "code",
   "execution_count": 5,
   "metadata": {},
   "outputs": [
    {
     "data": {
      "text/plain": [
       "Timer unit: 1e-06 s\n",
       "\n",
       "Total time: 0.249854 s\n",
       "File: ../majorityvoteproba/majority_vote_proba_fn.py\n",
       "Function: majority_vote_proba at line 4\n",
       "\n",
       "Line #      Hits         Time  Per Hit   % Time  Line Contents\n",
       "==============================================================\n",
       "     4                                           def majority_vote_proba(x):\n",
       "     5                                               # count how many proba x are greater than 0.5\n",
       "     6         1      37603.0  37603.0     15.0      cnt = np.sum(x >= 0.5, axis=1).astype(np.uint16)\n",
       "     7                                           \n",
       "     8                                               # the vote per example\n",
       "     9         1        766.0    766.0      0.3      vote = cnt > int(x.shape[1] / 2)\n",
       "    10                                           \n",
       "    11                                               # initialize proba y\n",
       "    12         1       2329.0   2329.0      0.9      y = np.ones(shape=vote.shape, dtype=np.float64) * .5\n",
       "    13                                           \n",
       "    14                                               # set x<0.5 to zero and add sum(x-0.5)/n\n",
       "    15         1      22707.0  22707.0      9.1      x0 = (x - .5).astype(np.float64)\n",
       "    16         1      98179.0  98179.0     39.3      y += np.maximum(0, x0).mean(axis=1) * vote\n",
       "    17                                           \n",
       "    18                                               # set x>=0.5 to zero and add sum(x-0.5)/n\n",
       "    19         1      84658.0  84658.0     33.9      y += np.minimum(0, x0).mean(axis=1) * ~vote\n",
       "    20         1       3464.0   3464.0      1.4      del x0\n",
       "    21                                           \n",
       "    22                                               # done\n",
       "    23         1        148.0    148.0      0.1      return y, vote.astype(np.uint8), cnt"
      ]
     },
     "metadata": {},
     "output_type": "display_data"
    }
   ],
   "source": [
    "%lprun -f majority_vote_proba majority_vote_proba(x)"
   ]
  },
  {
   "cell_type": "markdown",
   "metadata": {},
   "source": [
    "# Memory Profile"
   ]
  },
  {
   "cell_type": "code",
   "execution_count": 6,
   "metadata": {},
   "outputs": [],
   "source": [
    "%load_ext memory_profiler"
   ]
  },
  {
   "cell_type": "code",
   "execution_count": 7,
   "metadata": {},
   "outputs": [
    {
     "name": "stdout",
     "output_type": "stream",
     "text": [
      "\n"
     ]
    },
    {
     "data": {
      "text/plain": [
       "Filename: ../majorityvoteproba/majority_vote_proba_fn.py\n",
       "\n",
       "Line #    Mem usage    Increment   Line Contents\n",
       "================================================\n",
       "     4    205.0 MiB    205.0 MiB   def majority_vote_proba(x):\n",
       "     5                                 # count how many proba x are greater than 0.5\n",
       "     6    205.0 MiB      0.0 MiB       cnt = np.sum(x >= 0.5, axis=1).astype(np.uint16)\n",
       "     7                             \n",
       "     8                                 # the vote per example\n",
       "     9    205.0 MiB      0.0 MiB       vote = cnt > int(x.shape[1] / 2)\n",
       "    10                             \n",
       "    11                                 # initialize proba y\n",
       "    12    205.0 MiB      0.0 MiB       y = np.ones(shape=vote.shape, dtype=np.float64) * .5\n",
       "    13                             \n",
       "    14                                 # set x<0.5 to zero and add sum(x-0.5)/n\n",
       "    15    205.0 MiB      0.0 MiB       x0 = (x - .5).astype(np.float64)\n",
       "    16    205.0 MiB      0.0 MiB       y += np.maximum(0, x0).mean(axis=1) * vote\n",
       "    17                             \n",
       "    18                                 # set x>=0.5 to zero and add sum(x-0.5)/n\n",
       "    19    205.0 MiB      0.0 MiB       y += np.minimum(0, x0).mean(axis=1) * ~vote\n",
       "    20    205.0 MiB      0.0 MiB       del x0\n",
       "    21                             \n",
       "    22                                 # done\n",
       "    23    205.0 MiB      0.0 MiB       return y, vote.astype(np.uint8), cnt"
      ]
     },
     "metadata": {},
     "output_type": "display_data"
    }
   ],
   "source": [
    "%mprun -f majority_vote_proba majority_vote_proba(x)"
   ]
  },
  {
   "cell_type": "code",
   "execution_count": null,
   "metadata": {},
   "outputs": [],
   "source": []
  }
 ],
 "metadata": {
  "kernelspec": {
   "display_name": "Python 3",
   "language": "python",
   "name": "python3"
  },
  "language_info": {
   "codemirror_mode": {
    "name": "ipython",
    "version": 3
   },
   "file_extension": ".py",
   "mimetype": "text/x-python",
   "name": "python",
   "nbconvert_exporter": "python",
   "pygments_lexer": "ipython3",
   "version": "3.6.2"
  }
 },
 "nbformat": 4,
 "nbformat_minor": 2
}
