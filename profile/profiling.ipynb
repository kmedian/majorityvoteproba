{
 "cells": [
  {
   "cell_type": "markdown",
   "metadata": {},
   "source": [
    "# Line by Line Execution Time"
   ]
  },
  {
   "cell_type": "code",
   "execution_count": 1,
   "metadata": {},
   "outputs": [],
   "source": [
    "import numpy as np\n",
    "np.random.seed(42)\n",
    "from scipy.special import expit\n",
    "\n",
    "import sys\n",
    "sys.path.append('..')\n",
    "from majorityvoteproba import majority_vote_proba"
   ]
  },
  {
   "cell_type": "markdown",
   "metadata": {},
   "source": [
    "# Fake Data"
   ]
  },
  {
   "cell_type": "code",
   "execution_count": 2,
   "metadata": {},
   "outputs": [],
   "source": [
    "x = expit(np.random.normal(size=(1000000, 5)))"
   ]
  },
  {
   "cell_type": "markdown",
   "metadata": {},
   "source": [
    "# Execution Time by Function Calls"
   ]
  },
  {
   "cell_type": "code",
   "execution_count": 3,
   "metadata": {},
   "outputs": [
    {
     "name": "stdout",
     "output_type": "stream",
     "text": [
      " "
     ]
    },
    {
     "data": {
      "text/plain": [
       "         36 function calls in 0.589 seconds\n",
       "\n",
       "   Ordered by: internal time\n",
       "   List reduced from 20 to 1 due to restriction <'majority_vote_proba_fn.py'>\n",
       "\n",
       "   ncalls  tottime  percall  cumtime  percall filename:lineno(function)\n",
       "        1    0.338    0.338    0.589    0.589 majority_vote_proba_fn.py:4(majority_vote_proba)"
      ]
     },
     "metadata": {},
     "output_type": "display_data"
    }
   ],
   "source": [
    "%prun -l majority_vote_proba_fn.py y, vote, cnt = majority_vote_proba(x)"
   ]
  },
  {
   "cell_type": "markdown",
   "metadata": {},
   "source": [
    "# Line by Line Profiling"
   ]
  },
  {
   "cell_type": "code",
   "execution_count": 4,
   "metadata": {},
   "outputs": [],
   "source": [
    "%load_ext line_profiler"
   ]
  },
  {
   "cell_type": "code",
   "execution_count": 5,
   "metadata": {},
   "outputs": [
    {
     "data": {
      "text/plain": [
       "Timer unit: 1e-06 s\n",
       "\n",
       "Total time: 0.583592 s\n",
       "File: ../majorityvoteproba/majority_vote_proba_fn.py\n",
       "Function: majority_vote_proba at line 4\n",
       "\n",
       "Line #      Hits         Time  Per Hit   % Time  Line Contents\n",
       "==============================================================\n",
       "     4                                           def majority_vote_proba(x):\n",
       "     5                                               # count how many proba x are greater than 0.5\n",
       "     6         1      65579.0  65579.0     11.2      cnt = np.sum(x >= 0.5, axis=1).astype(np.uint16)\n",
       "     7                                           \n",
       "     8                                               # the vote per example\n",
       "     9         1        692.0    692.0      0.1      vote = cnt > int(x.shape[1] / 2)\n",
       "    10                                           \n",
       "    11                                               # initialize proba y\n",
       "    12         1      18504.0  18504.0      3.2      y = np.ones(shape=vote.shape, dtype=np.float16) * .5\n",
       "    13                                           \n",
       "    14                                               # set x<0.5 to zero and add sum(x-0.5)/n\n",
       "    15         1      55374.0  55374.0      9.5      x0 = (x - .5).astype(np.float16)\n",
       "    16         1     223454.0 223454.0     38.3      y += np.maximum(0, x0).mean(axis=1) * vote\n",
       "    17                                           \n",
       "    18                                               # set x>=0.5 to zero and add sum(x-0.5)/n\n",
       "    19         1     218889.0 218889.0     37.5      y += np.minimum(0, x0).mean(axis=1) * ~vote\n",
       "    20         1        955.0    955.0      0.2      del x0\n",
       "    21                                           \n",
       "    22                                               # done\n",
       "    23         1        145.0    145.0      0.0      return y, vote.astype(np.uint8), cnt"
      ]
     },
     "metadata": {},
     "output_type": "display_data"
    }
   ],
   "source": [
    "%lprun -f majority_vote_proba majority_vote_proba(x)"
   ]
  },
  {
   "cell_type": "markdown",
   "metadata": {},
   "source": [
    "# Memory Profile"
   ]
  },
  {
   "cell_type": "code",
   "execution_count": 6,
   "metadata": {},
   "outputs": [],
   "source": [
    "%load_ext memory_profiler"
   ]
  },
  {
   "cell_type": "code",
   "execution_count": 7,
   "metadata": {},
   "outputs": [
    {
     "name": "stdout",
     "output_type": "stream",
     "text": [
      "\n"
     ]
    },
    {
     "data": {
      "text/plain": [
       "Filename: ../majorityvoteproba/majority_vote_proba_fn.py\n",
       "\n",
       "Line #    Mem usage    Increment   Line Contents\n",
       "================================================\n",
       "     4    176.1 MiB    176.1 MiB   def majority_vote_proba(x):\n",
       "     5                                 # count how many proba x are greater than 0.5\n",
       "     6    176.1 MiB      0.0 MiB       cnt = np.sum(x >= 0.5, axis=1).astype(np.uint16)\n",
       "     7                             \n",
       "     8                                 # the vote per example\n",
       "     9    176.1 MiB      0.0 MiB       vote = cnt > int(x.shape[1] / 2)\n",
       "    10                             \n",
       "    11                                 # initialize proba y\n",
       "    12    176.1 MiB      0.0 MiB       y = np.ones(shape=vote.shape, dtype=np.float16) * .5\n",
       "    13                             \n",
       "    14                                 # set x<0.5 to zero and add sum(x-0.5)/n\n",
       "    15    176.1 MiB      0.0 MiB       x0 = (x - .5).astype(np.float16)\n",
       "    16    176.1 MiB      0.0 MiB       y += np.maximum(0, x0).mean(axis=1) * vote\n",
       "    17                             \n",
       "    18                                 # set x>=0.5 to zero and add sum(x-0.5)/n\n",
       "    19    176.1 MiB      0.0 MiB       y += np.minimum(0, x0).mean(axis=1) * ~vote\n",
       "    20    176.1 MiB      0.0 MiB       del x0\n",
       "    21                             \n",
       "    22                                 # done\n",
       "    23    176.1 MiB      0.0 MiB       return y, vote.astype(np.uint8), cnt"
      ]
     },
     "metadata": {},
     "output_type": "display_data"
    }
   ],
   "source": [
    "%mprun -f majority_vote_proba majority_vote_proba(x)"
   ]
  },
  {
   "cell_type": "code",
   "execution_count": null,
   "metadata": {},
   "outputs": [],
   "source": []
  }
 ],
 "metadata": {
  "kernelspec": {
   "display_name": "Python 3",
   "language": "python",
   "name": "python3"
  },
  "language_info": {
   "codemirror_mode": {
    "name": "ipython",
    "version": 3
   },
   "file_extension": ".py",
   "mimetype": "text/x-python",
   "name": "python",
   "nbconvert_exporter": "python",
   "pygments_lexer": "ipython3",
   "version": "3.6.2"
  }
 },
 "nbformat": 4,
 "nbformat_minor": 2
}
